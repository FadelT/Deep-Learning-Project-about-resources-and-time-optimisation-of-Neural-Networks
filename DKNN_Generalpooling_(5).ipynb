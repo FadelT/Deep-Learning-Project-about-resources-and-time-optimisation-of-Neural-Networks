{
  "nbformat": 4,
  "nbformat_minor": 0,
  "metadata": {
    "colab": {
      "name": "DKNN_Generalpooling_(5).ipynb",
      "provenance": []
    },
    "kernelspec": {
      "name": "python3",
      "display_name": "Python 3"
    }
  },
  "cells": [
    {
      "cell_type": "code",
      "metadata": {
        "colab": {
          "base_uri": "https://localhost:8080/"
        },
        "id": "b8VtXyXfXJAG",
        "outputId": "74ac3c04-da61-4d8a-cb91-6bddb7902461"
      },
      "source": [
        "!wget http://ufldl.stanford.edu/housenumbers/train_32x32.mat\n",
        "!wget http://ufldl.stanford.edu/housenumbers/test_32x32.mat"
      ],
      "execution_count": null,
      "outputs": [
        {
          "output_type": "stream",
          "text": [
            "--2021-03-21 19:31:03--  http://ufldl.stanford.edu/housenumbers/train_32x32.mat\n",
            "Resolving ufldl.stanford.edu (ufldl.stanford.edu)... 171.64.68.10\n",
            "Connecting to ufldl.stanford.edu (ufldl.stanford.edu)|171.64.68.10|:80... connected.\n",
            "HTTP request sent, awaiting response... 200 OK\n",
            "Length: 182040794 (174M) [text/plain]\n",
            "Saving to: ‘train_32x32.mat’\n",
            "\n",
            "train_32x32.mat     100%[===================>] 173.61M  38.5MB/s    in 7.6s    \n",
            "\n",
            "2021-03-21 19:31:11 (22.8 MB/s) - ‘train_32x32.mat’ saved [182040794/182040794]\n",
            "\n",
            "--2021-03-21 19:31:11--  http://ufldl.stanford.edu/housenumbers/test_32x32.mat\n",
            "Resolving ufldl.stanford.edu (ufldl.stanford.edu)... 171.64.68.10\n",
            "Connecting to ufldl.stanford.edu (ufldl.stanford.edu)|171.64.68.10|:80... connected.\n",
            "HTTP request sent, awaiting response... 200 OK\n",
            "Length: 64275384 (61M) [text/plain]\n",
            "Saving to: ‘test_32x32.mat’\n",
            "\n",
            "test_32x32.mat      100%[===================>]  61.30M  16.8MB/s    in 4.7s    \n",
            "\n",
            "2021-03-21 19:31:16 (13.2 MB/s) - ‘test_32x32.mat’ saved [64275384/64275384]\n",
            "\n"
          ],
          "name": "stdout"
        }
      ]
    },
    {
      "cell_type": "code",
      "metadata": {
        "id": "NiZhmYmOaOEU"
      },
      "source": [
        "import keras\n",
        "from keras.layers.normalization import BatchNormalization\n",
        "import numpy as np\n",
        "import scipy.io as io\n",
        "from keras.layers import Activation, Flatten,Softmax\n",
        "from keras.layers import Conv2D\n",
        "from keras.layers import Dense\n",
        "from keras.layers import Dropout\n",
        "from keras.layers import MaxPooling2D\n",
        "from keras.models import Sequential\n",
        "from keras import optimizers\n",
        "from keras.backend import function\n",
        "import pandas as pd\n",
        "from keras.backend import function"
      ],
      "execution_count": null,
      "outputs": []
    },
    {
      "cell_type": "code",
      "metadata": {
        "id": "Fs4dmPGbcra1"
      },
      "source": [
        "#importing data\n",
        "train_set = io.loadmat(\"train_32x32.mat\")\n",
        "test_set = io.loadmat(\"test_32x32.mat\")\n",
        "x_train = train_set['X']\n",
        "y_train = train_set['y']\n",
        "x_test = test_set['X']\n",
        "y_test = test_set['y']\n",
        "# Reshaping test and training data sets\n",
        "x_train = np.moveaxis(x_train,[3,0,1,2],[0,1,2,3])\n",
        "x_train = x_train.astype('float32')\n",
        "x_test = np.moveaxis(x_test,[3,0,1,2],[0,1,2,3])\n",
        "x_test = np.asarray(x_test)\n",
        "x_test = x_test.astype('float32')\n",
        "#Normalisation des données\n",
        "x_train /= x_train.max()\n",
        "x_test /= x_test.max()\n",
        "# Passage de classe comme integer à classe comme vecteur de dimension classes\n",
        "y_test_RN = [y-1 for y in y_test]# la classe 1 corresponds au array qui à 1 en indice 0\n",
        "y_train_RN = [y-1 for y in y_train]\n",
        "classes = 10\n",
        "y_train_RN = keras.utils.to_categorical(y_train_RN, classes)\n",
        "y_test_RN = keras.utils.to_categorical(y_test_RN, classes)\n",
        " #Définition du type de data pour optimiser la mémoire\n",
        "y_train_RN = y_train_RN.astype('int32')\n",
        "y_test_RN = y_test_RN.astype('int32')\n",
        "# Featurewise normalization\n",
        "datagen = keras.preprocessing.image.ImageDataGenerator(\n",
        "    featurewise_center=True,\n",
        "    featurewise_std_normalization=True,\n",
        "    horizontal_flip=False,\n",
        "    zca_whitening=False, \n",
        "    zca_epsilon=1e-06)\n",
        "\n",
        "datagen.fit(x_train)"
      ],
      "execution_count": null,
      "outputs": []
    },
    {
      "cell_type": "code",
      "metadata": {
        "id": "rfNFemW4c0Li"
      },
      "source": [
        "y_test_KNN=[k.item() for k in y_test]\n",
        "y_train_KNN=[k.item() for k in y_train]"
      ],
      "execution_count": null,
      "outputs": []
    },
    {
      "cell_type": "code",
      "metadata": {
        "id": "PkSBOzUQdBA-"
      },
      "source": [
        "#from google.colab import drive\n",
        "#drive.mount('drive')"
      ],
      "execution_count": null,
      "outputs": []
    },
    {
      "cell_type": "code",
      "metadata": {
        "id": "4Ux3_W6VdMiU"
      },
      "source": [
        "#model = keras.models.load_model('/content/drive/MyDrive/Projet 3A')"
      ],
      "execution_count": null,
      "outputs": []
    },
    {
      "cell_type": "code",
      "metadata": {
        "id": "Qdb6uUu0AHhn"
      },
      "source": [
        "def deepnet2():\n",
        "  model=Sequential()\n",
        "  model.add(Conv2D(64, kernel_size=(3, 3),padding = 'same', activation='relu', input_shape=x_train.shape[1:]))\n",
        "  model.add(MaxPooling2D(pool_size=(2,2),strides=(2,2),  padding = 'valid', name='S1'))\n",
        "  model.add(Conv2D(128, kernel_size=(3, 3), padding = 'valid', activation='relu'))\n",
        "  model.add(MaxPooling2D(pool_size=(2,2),strides=(2,2),  padding = 'same', name='S2'))\n",
        "  model.add(Conv2D(128, kernel_size=(3, 3),  strides = (1,1), padding = 'valid',  activation='relu'))\n",
        "  model.add(Conv2D(128, kernel_size=(3, 3),  strides = (1,1), padding = 'valid',  activation='relu'))\n",
        "  model.add(Conv2D(128, kernel_size=(3, 3),  strides = (1,1), padding = 'valid',  activation='relu'))\n",
        "  model.add(Dropout(0.5)) \n",
        "  model.add(Flatten())\n",
        "  model.add(Dense(classes, activation='softmax'))\n",
        "  adam = optimizers.Adam(lr = 0.001)\n",
        "  model.compile(loss=keras.losses.categorical_crossentropy,\n",
        "                  optimizer= adam,\n",
        "                  metrics=['accuracy'])\n",
        "  return model"
      ],
      "execution_count": null,
      "outputs": []
    },
    {
      "cell_type": "code",
      "metadata": {
        "colab": {
          "base_uri": "https://localhost:8080/"
        },
        "id": "V29S9JlzANzx",
        "outputId": "720308dc-6431-48d1-be04-0a2fe79a5183"
      },
      "source": [
        "model=deepnet2()\n",
        "model.summary()\n"
      ],
      "execution_count": null,
      "outputs": [
        {
          "output_type": "stream",
          "text": [
            "Model: \"sequential\"\n",
            "_________________________________________________________________\n",
            "Layer (type)                 Output Shape              Param #   \n",
            "=================================================================\n",
            "conv2d (Conv2D)              (None, 32, 32, 64)        1792      \n",
            "_________________________________________________________________\n",
            "S1 (MaxPooling2D)            (None, 16, 16, 64)        0         \n",
            "_________________________________________________________________\n",
            "conv2d_1 (Conv2D)            (None, 14, 14, 128)       73856     \n",
            "_________________________________________________________________\n",
            "S2 (MaxPooling2D)            (None, 7, 7, 128)         0         \n",
            "_________________________________________________________________\n",
            "conv2d_2 (Conv2D)            (None, 5, 5, 128)         147584    \n",
            "_________________________________________________________________\n",
            "conv2d_3 (Conv2D)            (None, 3, 3, 128)         147584    \n",
            "_________________________________________________________________\n",
            "conv2d_4 (Conv2D)            (None, 1, 1, 128)         147584    \n",
            "_________________________________________________________________\n",
            "dropout (Dropout)            (None, 1, 1, 128)         0         \n",
            "_________________________________________________________________\n",
            "flatten (Flatten)            (None, 128)               0         \n",
            "_________________________________________________________________\n",
            "dense (Dense)                (None, 10)                1290      \n",
            "=================================================================\n",
            "Total params: 519,690\n",
            "Trainable params: 519,690\n",
            "Non-trainable params: 0\n",
            "_________________________________________________________________\n"
          ],
          "name": "stdout"
        }
      ]
    },
    {
      "cell_type": "code",
      "metadata": {
        "colab": {
          "base_uri": "https://localhost:8080/"
        },
        "id": "wQSPcv68ATNi",
        "outputId": "4e442d3a-253e-47c5-eae8-f52370ba1108"
      },
      "source": [
        "model.fit(x_train,y_train_RN, validation_split=0.2 ,epochs=10, batch_size=128)"
      ],
      "execution_count": null,
      "outputs": [
        {
          "output_type": "stream",
          "text": [
            "Epoch 1/10\n",
            "458/458 [==============================] - 269s 585ms/step - loss: 1.9465 - accuracy: 0.3069 - val_loss: 0.5897 - val_accuracy: 0.8238\n",
            "Epoch 2/10\n",
            "458/458 [==============================] - 271s 593ms/step - loss: 0.6199 - accuracy: 0.8163 - val_loss: 0.4292 - val_accuracy: 0.8696\n",
            "Epoch 3/10\n",
            "458/458 [==============================] - 276s 603ms/step - loss: 0.4665 - accuracy: 0.8653 - val_loss: 0.3811 - val_accuracy: 0.8904\n",
            "Epoch 4/10\n",
            "458/458 [==============================] - 278s 608ms/step - loss: 0.3847 - accuracy: 0.8897 - val_loss: 0.3401 - val_accuracy: 0.9006\n",
            "Epoch 5/10\n",
            "458/458 [==============================] - 285s 622ms/step - loss: 0.3364 - accuracy: 0.9046 - val_loss: 0.3125 - val_accuracy: 0.9086\n",
            "Epoch 6/10\n",
            "458/458 [==============================] - 281s 613ms/step - loss: 0.3041 - accuracy: 0.9131 - val_loss: 0.3101 - val_accuracy: 0.9127\n",
            "Epoch 7/10\n",
            "458/458 [==============================] - 280s 611ms/step - loss: 0.2818 - accuracy: 0.9212 - val_loss: 0.2787 - val_accuracy: 0.9225\n",
            "Epoch 8/10\n",
            "458/458 [==============================] - 271s 592ms/step - loss: 0.2564 - accuracy: 0.9288 - val_loss: 0.2861 - val_accuracy: 0.9212\n",
            "Epoch 9/10\n",
            "458/458 [==============================] - 273s 597ms/step - loss: 0.2309 - accuracy: 0.9349 - val_loss: 0.2721 - val_accuracy: 0.9248\n",
            "Epoch 10/10\n",
            "458/458 [==============================] - 274s 598ms/step - loss: 0.2080 - accuracy: 0.9418 - val_loss: 0.2714 - val_accuracy: 0.9261\n"
          ],
          "name": "stdout"
        },
        {
          "output_type": "execute_result",
          "data": {
            "text/plain": [
              "<tensorflow.python.keras.callbacks.History at 0x7f87b4b70190>"
            ]
          },
          "metadata": {
            "tags": []
          },
          "execution_count": 9
        }
      ]
    },
    {
      "cell_type": "code",
      "metadata": {
        "colab": {
          "base_uri": "https://localhost:8080/"
        },
        "id": "6eN-TVL4uAh5",
        "outputId": "c751c5e1-07ea-431a-ffbb-52806640faa9"
      },
      "source": [
        "model.evaluate(x_test[:5000],y_test_RN[:5000])"
      ],
      "execution_count": null,
      "outputs": [
        {
          "output_type": "stream",
          "text": [
            "157/157 [==============================] - 5s 34ms/step - loss: 0.3206 - accuracy: 0.9208\n"
          ],
          "name": "stdout"
        },
        {
          "output_type": "execute_result",
          "data": {
            "text/plain": [
              "[0.3206191956996918, 0.920799970626831]"
            ]
          },
          "metadata": {
            "tags": []
          },
          "execution_count": 10
        }
      ]
    },
    {
      "cell_type": "code",
      "metadata": {
        "id": "KVXKckDldT7i"
      },
      "source": [
        "scores=[]\n",
        "x_train_10000=x_train[:15000]"
      ],
      "execution_count": null,
      "outputs": []
    },
    {
      "cell_type": "code",
      "metadata": {
        "id": "be8Rr-xVWI0X"
      },
      "source": [
        "def generalpooling(X):\n",
        "  (l,m,n)=X.T.shape\n",
        "  L=[]\n",
        "  X1=X.reshape(l,m*n)\n",
        "  for k in range(l):\n",
        "    L.append(max(X1[k]))\n",
        "  return L\n",
        "\n",
        "\n"
      ],
      "execution_count": null,
      "outputs": []
    },
    {
      "cell_type": "code",
      "metadata": {
        "id": "dNBuaK1xXv1c"
      },
      "source": [
        "def generalpooling_data(d):\n",
        "  D=[]\n",
        "  for X in d:\n",
        "    D.append(generalpooling(X))\n",
        "  return D\n"
      ],
      "execution_count": null,
      "outputs": []
    },
    {
      "cell_type": "code",
      "metadata": {
        "id": "Xpqqr8zv_JEG"
      },
      "source": [
        "m=5"
      ],
      "execution_count": null,
      "outputs": []
    },
    {
      "cell_type": "markdown",
      "metadata": {
        "id": "HosmPRgxUhQU"
      },
      "source": [
        "#Conv2D 50"
      ]
    },
    {
      "cell_type": "code",
      "metadata": {
        "id": "8oXIDa_adhv-"
      },
      "source": [
        "get_conv50_output = function([model.layers[0].input],\n",
        "                                  [model.layers[6].output])\n",
        "layer_output_conv50 = get_conv50_output([x_train_10000])"
      ],
      "execution_count": null,
      "outputs": []
    },
    {
      "cell_type": "code",
      "metadata": {
        "colab": {
          "base_uri": "https://localhost:8080/"
        },
        "id": "DWV5QknFUrsp",
        "outputId": "9f5e4937-dfb0-4d69-f38c-36548a9369af"
      },
      "source": [
        "layer_output_conv50[0][0].shape"
      ],
      "execution_count": null,
      "outputs": [
        {
          "output_type": "execute_result",
          "data": {
            "text/plain": [
              "(1, 1, 128)"
            ]
          },
          "metadata": {
            "tags": []
          },
          "execution_count": 16
        }
      ]
    },
    {
      "cell_type": "code",
      "metadata": {
        "id": "gkmP7gDZO1BF"
      },
      "source": [
        "conv50=np.array(layer_output_conv50[0]).reshape(15000,128)"
      ],
      "execution_count": null,
      "outputs": []
    },
    {
      "cell_type": "code",
      "metadata": {
        "id": "F7vjhaas-zQB"
      },
      "source": [
        "from sklearn.neighbors import KNeighborsClassifier\n",
        "knn_conv50=KNeighborsClassifier(m)\n",
        "knn_conv50.fit(conv50,y_train_KNN[:15000])\n",
        "layer_output_conv50_test = get_conv50_output([x_test[:5000]])\n",
        "conv50_test=np.array(layer_output_conv50_test[0]).reshape(5000,128)\n",
        "score=knn_conv50.score(conv50_test,y_test_KNN[:5000])\n",
        "scores.append(score)"
      ],
      "execution_count": null,
      "outputs": []
    },
    {
      "cell_type": "markdown",
      "metadata": {
        "id": "rj9k5iJtU_hd"
      },
      "source": [
        "Pas besoin de faire le generalpooling sur cette couche car les cartes sont composé d'une seule valeur\n"
      ]
    },
    {
      "cell_type": "code",
      "metadata": {
        "id": "DUMLbEDrZwxO"
      },
      "source": [
        "#scores.append(0.9142)"
      ],
      "execution_count": null,
      "outputs": []
    },
    {
      "cell_type": "code",
      "metadata": {
        "colab": {
          "base_uri": "https://localhost:8080/"
        },
        "id": "wUZ2O8mhL8n1",
        "outputId": "8cc5d88d-da2f-4626-8747-f1d7bc2fea8a"
      },
      "source": [
        "scores"
      ],
      "execution_count": null,
      "outputs": [
        {
          "output_type": "execute_result",
          "data": {
            "text/plain": [
              "[0.9178]"
            ]
          },
          "metadata": {
            "tags": []
          },
          "execution_count": 20
        }
      ]
    },
    {
      "cell_type": "markdown",
      "metadata": {
        "id": "QlxQ0UauVZet"
      },
      "source": [
        "#Conv2D 40\n"
      ]
    },
    {
      "cell_type": "code",
      "metadata": {
        "id": "noGl46J4VZJb"
      },
      "source": [
        "get_conv40_output = function([model.layers[0].input],\n",
        "                                  [model.layers[5].output])\n",
        "layer_output_conv40 = get_conv40_output([x_train_10000])[0]"
      ],
      "execution_count": null,
      "outputs": []
    },
    {
      "cell_type": "code",
      "metadata": {
        "id": "boXjigj8VYZx"
      },
      "source": [
        "layer_output_conv40_test = get_conv40_output([x_test[:5000]])[0]"
      ],
      "execution_count": null,
      "outputs": []
    },
    {
      "cell_type": "code",
      "metadata": {
        "id": "X3cUmZCKYGx1"
      },
      "source": [
        "conv40=generalpooling_data(layer_output_conv40)"
      ],
      "execution_count": null,
      "outputs": []
    },
    {
      "cell_type": "code",
      "metadata": {
        "id": "QDREa8K7YTwu"
      },
      "source": [
        "conv40_test=generalpooling_data(layer_output_conv40_test)"
      ],
      "execution_count": null,
      "outputs": []
    },
    {
      "cell_type": "code",
      "metadata": {
        "id": "mFNt218YY4L4",
        "colab": {
          "base_uri": "https://localhost:8080/"
        },
        "outputId": "9bca8c95-b11a-4d20-fa33-d300dd4c338a"
      },
      "source": [
        "from sklearn.neighbors import KNeighborsClassifier\n",
        "knn_conv40=KNeighborsClassifier(m)\n",
        "knn_conv40.fit(conv40,y_train_KNN[:15000])"
      ],
      "execution_count": null,
      "outputs": [
        {
          "output_type": "execute_result",
          "data": {
            "text/plain": [
              "KNeighborsClassifier(algorithm='auto', leaf_size=30, metric='minkowski',\n",
              "                     metric_params=None, n_jobs=None, n_neighbors=5, p=2,\n",
              "                     weights='uniform')"
            ]
          },
          "metadata": {
            "tags": []
          },
          "execution_count": 26
        }
      ]
    },
    {
      "cell_type": "code",
      "metadata": {
        "id": "FDUiLKeGZXw5"
      },
      "source": [
        "score=knn_conv40.score(conv40_test,y_test_KNN[:5000])"
      ],
      "execution_count": null,
      "outputs": []
    },
    {
      "cell_type": "code",
      "metadata": {
        "id": "GAgxenD9Zi8Q"
      },
      "source": [
        "scores.append(score)"
      ],
      "execution_count": null,
      "outputs": []
    },
    {
      "cell_type": "code",
      "metadata": {
        "id": "qInOnjlFZ5K3",
        "colab": {
          "base_uri": "https://localhost:8080/"
        },
        "outputId": "d08c8d0a-62e1-493b-f1f5-2b73f02f2eda"
      },
      "source": [
        "scores"
      ],
      "execution_count": null,
      "outputs": [
        {
          "output_type": "execute_result",
          "data": {
            "text/plain": [
              "[0.9178, 0.8766]"
            ]
          },
          "metadata": {
            "tags": []
          },
          "execution_count": 29
        }
      ]
    },
    {
      "cell_type": "markdown",
      "metadata": {
        "id": "cbQKrpltZ-hU"
      },
      "source": [
        "# Conv2D 30\n"
      ]
    },
    {
      "cell_type": "code",
      "metadata": {
        "id": "lvoYjMWIaIGf"
      },
      "source": [
        "get_conv30_output = function([model.layers[0].input],\n",
        "                                  [model.layers[4].output])\n",
        "layer_output_conv30 = get_conv30_output([x_train_10000])[0]"
      ],
      "execution_count": null,
      "outputs": []
    },
    {
      "cell_type": "code",
      "metadata": {
        "id": "gg-i5tlKaKZx"
      },
      "source": [
        "layer_output_conv30_test = get_conv30_output([x_test[:5000]])[0]"
      ],
      "execution_count": null,
      "outputs": []
    },
    {
      "cell_type": "code",
      "metadata": {
        "id": "xKuKzH1XaSz0"
      },
      "source": [
        "conv30=generalpooling_data(layer_output_conv30)"
      ],
      "execution_count": null,
      "outputs": []
    },
    {
      "cell_type": "code",
      "metadata": {
        "id": "qMCDbTllacjL"
      },
      "source": [
        "conv30_test=generalpooling_data(layer_output_conv30_test)"
      ],
      "execution_count": null,
      "outputs": []
    },
    {
      "cell_type": "code",
      "metadata": {
        "id": "PViB1UV_bQmq"
      },
      "source": [
        "layer_output_conv30.shape"
      ],
      "execution_count": null,
      "outputs": []
    },
    {
      "cell_type": "code",
      "metadata": {
        "id": "6zHTuvc4bAzb"
      },
      "source": [
        "np.array(conv30).shape"
      ],
      "execution_count": null,
      "outputs": []
    },
    {
      "cell_type": "code",
      "metadata": {
        "id": "KWdaQXvcakqI"
      },
      "source": [
        "knn_conv30=KNeighborsClassifier(m)\n",
        "knn_conv30.fit(conv30,y_train_KNN[:10000])"
      ],
      "execution_count": null,
      "outputs": []
    },
    {
      "cell_type": "code",
      "metadata": {
        "id": "JA0NlIeGayy6"
      },
      "source": [
        "score=knn_conv30.score(conv30_test,y_test_KNN[:5000])"
      ],
      "execution_count": null,
      "outputs": []
    },
    {
      "cell_type": "code",
      "metadata": {
        "id": "F0041yqDbeWd"
      },
      "source": [
        "scores.append(score)\n",
        "scores"
      ],
      "execution_count": null,
      "outputs": []
    },
    {
      "cell_type": "markdown",
      "metadata": {
        "id": "gJwiQ688b397"
      },
      "source": [
        "#Maxpooling S2"
      ]
    },
    {
      "cell_type": "code",
      "metadata": {
        "id": "dAur_0Ifbu7H"
      },
      "source": [
        "get_S2_output = function([model.layers[0].input],\n",
        "                                  [model.layers[3].output])\n",
        "layer_output_S2 = get_S2_output([x_train_10000])[0]"
      ],
      "execution_count": null,
      "outputs": []
    },
    {
      "cell_type": "code",
      "metadata": {
        "id": "QDQ8gzwtb-sM"
      },
      "source": [
        "layer_output_S2_test = get_S2_output([x_test[:5000]])[0]"
      ],
      "execution_count": null,
      "outputs": []
    },
    {
      "cell_type": "code",
      "metadata": {
        "id": "5_6c7XfVcFIC"
      },
      "source": [
        "S2=generalpooling_data(layer_output_S2)"
      ],
      "execution_count": null,
      "outputs": []
    },
    {
      "cell_type": "code",
      "metadata": {
        "id": "ZtdMnDBJcLWO"
      },
      "source": [
        "S2_test=generalpooling_data(layer_output_S2_test)"
      ],
      "execution_count": null,
      "outputs": []
    },
    {
      "cell_type": "code",
      "metadata": {
        "id": "xI6pKu1Cccg9"
      },
      "source": [
        "knn_S2=KNeighborsClassifier(m)\n",
        "knn_S2.fit(S2,y_train_KNN[:10000])"
      ],
      "execution_count": null,
      "outputs": []
    },
    {
      "cell_type": "code",
      "metadata": {
        "id": "8KpgcDGxcjeY"
      },
      "source": [
        "score=knn_S2.score(S2_test,y_test_KNN[:5000])"
      ],
      "execution_count": null,
      "outputs": []
    },
    {
      "cell_type": "code",
      "metadata": {
        "id": "94kZ81hlcpTV"
      },
      "source": [
        "scores.append(score)\n",
        "scores"
      ],
      "execution_count": null,
      "outputs": []
    },
    {
      "cell_type": "markdown",
      "metadata": {
        "id": "CQ6A2bYPc7vJ"
      },
      "source": [
        "# Conv2D 20"
      ]
    },
    {
      "cell_type": "code",
      "metadata": {
        "id": "R-KECmPVczLr"
      },
      "source": [
        "get_conv20_output = function([model.layers[0].input],\n",
        "                                  [model.layers[2].output])\n",
        "layer_output_conv20 = get_conv20_output([x_train_10000])[0]"
      ],
      "execution_count": null,
      "outputs": []
    },
    {
      "cell_type": "code",
      "metadata": {
        "id": "7CpwEuS2dAy2"
      },
      "source": [
        "layer_output_conv20_test = get_conv20_output([x_test[:5000]])[0]"
      ],
      "execution_count": null,
      "outputs": []
    },
    {
      "cell_type": "code",
      "metadata": {
        "id": "XHKv_x0CdKjp"
      },
      "source": [
        "conv20=generalpooling_data(layer_output_conv20)"
      ],
      "execution_count": null,
      "outputs": []
    },
    {
      "cell_type": "code",
      "metadata": {
        "id": "-M_iq4DvdTRO"
      },
      "source": [
        "conv20_test=generalpooling_data(layer_output_conv20_test)"
      ],
      "execution_count": null,
      "outputs": []
    },
    {
      "cell_type": "code",
      "metadata": {
        "id": "v8dWjbbAdew4"
      },
      "source": [
        "knn_conv20=KNeighborsClassifier(m)\n",
        "knn_conv20.fit(conv20,y_train_KNN[:10000])"
      ],
      "execution_count": null,
      "outputs": []
    },
    {
      "cell_type": "code",
      "metadata": {
        "id": "aGqDYHr8dsGO"
      },
      "source": [
        "score=knn_conv20.score(conv20_test,y_test_KNN[:5000])"
      ],
      "execution_count": null,
      "outputs": []
    },
    {
      "cell_type": "code",
      "metadata": {
        "id": "pjsD9WiCdzqk"
      },
      "source": [
        "scores.append(score)\n",
        "scores"
      ],
      "execution_count": null,
      "outputs": []
    }
  ]
}