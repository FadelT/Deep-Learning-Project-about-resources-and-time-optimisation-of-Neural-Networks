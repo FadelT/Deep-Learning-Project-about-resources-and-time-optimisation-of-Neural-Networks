{
  "nbformat": 4,
  "nbformat_minor": 0,
  "metadata": {
    "colab": {
      "name": "DKNN_2_0_(5)ok.ipynb",
      "provenance": [],
      "toc_visible": true
    },
    "kernelspec": {
      "name": "python3",
      "display_name": "Python 3"
    }
  },
  "cells": [
    {
      "cell_type": "code",
      "metadata": {
        "colab": {
          "base_uri": "https://localhost:8080/"
        },
        "id": "UwU8Dko68WCI",
        "outputId": "4cdd2968-617e-489d-b846-db29e7b80155"
      },
      "source": [
        "!wget http://ufldl.stanford.edu/housenumbers/train_32x32.mat\n",
        "!wget http://ufldl.stanford.edu/housenumbers/test_32x32.mat"
      ],
      "execution_count": null,
      "outputs": [
        {
          "output_type": "stream",
          "text": [
            "--2021-03-21 20:49:31--  http://ufldl.stanford.edu/housenumbers/train_32x32.mat\n",
            "Resolving ufldl.stanford.edu (ufldl.stanford.edu)... 171.64.68.10\n",
            "Connecting to ufldl.stanford.edu (ufldl.stanford.edu)|171.64.68.10|:80... connected.\n",
            "HTTP request sent, awaiting response... 200 OK\n",
            "Length: 182040794 (174M) [text/plain]\n",
            "Saving to: ‘train_32x32.mat’\n",
            "\n",
            "train_32x32.mat     100%[===================>] 173.61M  34.2MB/s    in 7.9s    \n",
            "\n",
            "2021-03-21 20:49:39 (21.9 MB/s) - ‘train_32x32.mat’ saved [182040794/182040794]\n",
            "\n",
            "--2021-03-21 20:49:39--  http://ufldl.stanford.edu/housenumbers/test_32x32.mat\n",
            "Resolving ufldl.stanford.edu (ufldl.stanford.edu)... 171.64.68.10\n",
            "Connecting to ufldl.stanford.edu (ufldl.stanford.edu)|171.64.68.10|:80... connected.\n",
            "HTTP request sent, awaiting response... 200 OK\n",
            "Length: 64275384 (61M) [text/plain]\n",
            "Saving to: ‘test_32x32.mat’\n",
            "\n",
            "test_32x32.mat      100%[===================>]  61.30M  7.27MB/s    in 11s     \n",
            "\n",
            "2021-03-21 20:49:50 (5.50 MB/s) - ‘test_32x32.mat’ saved [64275384/64275384]\n",
            "\n"
          ],
          "name": "stdout"
        }
      ]
    },
    {
      "cell_type": "code",
      "metadata": {
        "id": "trpeM1-h9INr"
      },
      "source": [
        "import keras\n",
        "from keras.layers.normalization import BatchNormalization\n",
        "import numpy as np\n",
        "import scipy.io as io\n",
        "from keras.layers import Activation, Flatten,Softmax\n",
        "from keras.layers import Conv2D\n",
        "from keras.layers import Dense\n",
        "from keras.layers import Dropout\n",
        "from keras.layers import MaxPooling2D\n",
        "from keras.models import Sequential\n",
        "from keras import optimizers\n",
        "from keras.backend import function\n",
        "import pandas as pd"
      ],
      "execution_count": null,
      "outputs": []
    },
    {
      "cell_type": "code",
      "metadata": {
        "id": "b1Orlz4mM-r4"
      },
      "source": [
        "from keras.backend import function"
      ],
      "execution_count": null,
      "outputs": []
    },
    {
      "cell_type": "code",
      "metadata": {
        "id": "hqW3Smbj9M6_"
      },
      "source": [
        "#importing data\n",
        "train_set = io.loadmat(\"train_32x32.mat\")\n",
        "test_set = io.loadmat(\"test_32x32.mat\")\n",
        "x_train = train_set['X']\n",
        "y_train = train_set['y']\n",
        "x_test = test_set['X']\n",
        "y_test = test_set['y']\n",
        "# Reshaping test and training data sets\n",
        "x_train = np.moveaxis(x_train,[3,0,1,2],[0,1,2,3])\n",
        "x_train = x_train.astype('float32')\n",
        "x_test = np.moveaxis(x_test,[3,0,1,2],[0,1,2,3])\n",
        "x_test = np.asarray(x_test)\n",
        "x_test = x_test.astype('float32')\n",
        "#Normalisation des données\n",
        "x_train /= x_train.max()\n",
        "x_test /= x_test.max()\n",
        "# Passage de classe comme integer à classe comme vecteur de dimension classes\n",
        "y_test_RN = [y-1 for y in y_test]# la classe 1 corresponds au array qui à 1 en indice 0\n",
        "y_train_RN = [y-1 for y in y_train]\n",
        "classes = 10\n",
        "y_train_RN = keras.utils.to_categorical(y_train_RN, classes)\n",
        "y_test_RN = keras.utils.to_categorical(y_test_RN, classes)\n",
        " #Définition du type de data pour optimiser la mémoire\n",
        "y_train_RN = y_train_RN.astype('int32')\n",
        "y_test_RN = y_test_RN.astype('int32')\n",
        "# Featurewise normalization\n",
        "datagen = keras.preprocessing.image.ImageDataGenerator(\n",
        "    featurewise_center=True,\n",
        "    featurewise_std_normalization=True,\n",
        "    horizontal_flip=False,\n",
        "    zca_whitening=False, \n",
        "    zca_epsilon=1e-06)\n",
        "\n",
        "datagen.fit(x_train)"
      ],
      "execution_count": null,
      "outputs": []
    },
    {
      "cell_type": "code",
      "metadata": {
        "id": "3IuqDexT9SLN"
      },
      "source": [
        "def deepnet2():\n",
        "  model=Sequential()\n",
        "  model.add(Conv2D(64, kernel_size=(3, 3),padding = 'same', activation='relu', input_shape=x_train.shape[1:]))\n",
        "  model.add(MaxPooling2D(pool_size=(2,2),strides=(2,2),  padding = 'valid', name='S1'))\n",
        "  model.add(Conv2D(128, kernel_size=(3, 3), padding = 'valid', activation='relu'))\n",
        "  model.add(MaxPooling2D(pool_size=(2,2),strides=(2,2),  padding = 'same', name='S2'))\n",
        "  model.add(Conv2D(128, kernel_size=(3, 3),  strides = (1,1), padding = 'valid',  activation='relu'))\n",
        "  model.add(Conv2D(128, kernel_size=(3, 3),  strides = (1,1), padding = 'valid',  activation='relu'))\n",
        "  model.add(Conv2D(128, kernel_size=(3, 3),  strides = (1,1), padding = 'valid',  activation='relu'))\n",
        "  model.add(Dropout(0.5)) \n",
        "  model.add(Flatten())\n",
        "  model.add(Dense(classes, activation='softmax'))\n",
        "  adam = optimizers.Adam(lr = 0.001)\n",
        "  model.compile(loss=keras.losses.categorical_crossentropy,\n",
        "                  optimizer= adam,\n",
        "                  metrics=['accuracy'])\n",
        "  return model"
      ],
      "execution_count": null,
      "outputs": []
    },
    {
      "cell_type": "code",
      "metadata": {
        "id": "IJHJe1oJOuit"
      },
      "source": [
        "#model = keras.models.load_model('/content/drive/My Drive/Projet 3A')"
      ],
      "execution_count": null,
      "outputs": []
    },
    {
      "cell_type": "code",
      "metadata": {
        "id": "O77USQL5jZ2I"
      },
      "source": [
        "model=deepnet2()"
      ],
      "execution_count": null,
      "outputs": []
    },
    {
      "cell_type": "code",
      "metadata": {
        "colab": {
          "base_uri": "https://localhost:8080/"
        },
        "id": "sIucSWGo9alK",
        "outputId": "6bd1a4a2-2a0b-4bf8-8088-fee0c019abb2"
      },
      "source": [
        "\n",
        "model.summary()"
      ],
      "execution_count": null,
      "outputs": [
        {
          "output_type": "stream",
          "text": [
            "Model: \"sequential\"\n",
            "_________________________________________________________________\n",
            "Layer (type)                 Output Shape              Param #   \n",
            "=================================================================\n",
            "conv2d (Conv2D)              (None, 32, 32, 64)        1792      \n",
            "_________________________________________________________________\n",
            "S1 (MaxPooling2D)            (None, 16, 16, 64)        0         \n",
            "_________________________________________________________________\n",
            "conv2d_1 (Conv2D)            (None, 14, 14, 128)       73856     \n",
            "_________________________________________________________________\n",
            "S2 (MaxPooling2D)            (None, 7, 7, 128)         0         \n",
            "_________________________________________________________________\n",
            "conv2d_2 (Conv2D)            (None, 5, 5, 128)         147584    \n",
            "_________________________________________________________________\n",
            "conv2d_3 (Conv2D)            (None, 3, 3, 128)         147584    \n",
            "_________________________________________________________________\n",
            "conv2d_4 (Conv2D)            (None, 1, 1, 128)         147584    \n",
            "_________________________________________________________________\n",
            "dropout (Dropout)            (None, 1, 1, 128)         0         \n",
            "_________________________________________________________________\n",
            "flatten (Flatten)            (None, 128)               0         \n",
            "_________________________________________________________________\n",
            "dense (Dense)                (None, 10)                1290      \n",
            "=================================================================\n",
            "Total params: 519,690\n",
            "Trainable params: 519,690\n",
            "Non-trainable params: 0\n",
            "_________________________________________________________________\n"
          ],
          "name": "stdout"
        }
      ]
    },
    {
      "cell_type": "code",
      "metadata": {
        "colab": {
          "base_uri": "https://localhost:8080/"
        },
        "id": "UfBMqQlH_Xj4",
        "outputId": "61ffdb5b-5860-40ef-8ee1-2f2f88754f3b"
      },
      "source": [
        "model.fit(x_train,y_train_RN, validation_split=0.2 ,epochs=10, batch_size=128)"
      ],
      "execution_count": null,
      "outputs": [
        {
          "output_type": "stream",
          "text": [
            "Epoch 1/10\n",
            "458/458 [==============================] - 272s 592ms/step - loss: 1.9127 - accuracy: 0.3229 - val_loss: 0.5850 - val_accuracy: 0.8201\n",
            "Epoch 2/10\n",
            "458/458 [==============================] - 277s 605ms/step - loss: 0.6170 - accuracy: 0.8181 - val_loss: 0.4178 - val_accuracy: 0.8765\n",
            "Epoch 3/10\n",
            "458/458 [==============================] - 277s 604ms/step - loss: 0.4444 - accuracy: 0.8722 - val_loss: 0.3610 - val_accuracy: 0.8943\n",
            "Epoch 4/10\n",
            "458/458 [==============================] - 277s 605ms/step - loss: 0.3840 - accuracy: 0.8880 - val_loss: 0.3190 - val_accuracy: 0.9098\n",
            "Epoch 5/10\n",
            "458/458 [==============================] - 277s 606ms/step - loss: 0.3237 - accuracy: 0.9067 - val_loss: 0.3058 - val_accuracy: 0.9151\n",
            "Epoch 6/10\n",
            "458/458 [==============================] - 276s 602ms/step - loss: 0.2917 - accuracy: 0.9172 - val_loss: 0.2930 - val_accuracy: 0.9163\n",
            "Epoch 7/10\n",
            "458/458 [==============================] - 275s 600ms/step - loss: 0.2730 - accuracy: 0.9225 - val_loss: 0.3068 - val_accuracy: 0.9117\n",
            "Epoch 8/10\n",
            "458/458 [==============================] - 274s 598ms/step - loss: 0.2464 - accuracy: 0.9282 - val_loss: 0.2930 - val_accuracy: 0.9176\n",
            "Epoch 9/10\n",
            "458/458 [==============================] - 274s 598ms/step - loss: 0.2218 - accuracy: 0.9348 - val_loss: 0.2908 - val_accuracy: 0.9223\n",
            "Epoch 10/10\n",
            "458/458 [==============================] - 274s 598ms/step - loss: 0.2069 - accuracy: 0.9382 - val_loss: 0.2845 - val_accuracy: 0.9262\n"
          ],
          "name": "stdout"
        },
        {
          "output_type": "execute_result",
          "data": {
            "text/plain": [
              "<tensorflow.python.keras.callbacks.History at 0x7f21999dced0>"
            ]
          },
          "metadata": {
            "tags": []
          },
          "execution_count": 9
        }
      ]
    },
    {
      "cell_type": "code",
      "metadata": {
        "colab": {
          "base_uri": "https://localhost:8080/",
          "height": 36
        },
        "id": "KoOhpmKvKLQ2",
        "outputId": "685fa0c1-872d-4309-8479-62cdc52587fb"
      },
      "source": [
        "\"\"\"\n",
        "from google.colab import drive\n",
        "drive.mount('drive')\n",
        "\"\"\""
      ],
      "execution_count": null,
      "outputs": [
        {
          "output_type": "execute_result",
          "data": {
            "application/vnd.google.colaboratory.intrinsic+json": {
              "type": "string"
            },
            "text/plain": [
              "\"\\nfrom google.colab import drive\\ndrive.mount('drive')\\n\""
            ]
          },
          "metadata": {
            "tags": []
          },
          "execution_count": 10
        }
      ]
    },
    {
      "cell_type": "code",
      "metadata": {
        "colab": {
          "base_uri": "https://localhost:8080/",
          "height": 53
        },
        "id": "XflypPgXk_Bc",
        "outputId": "131d4d08-aad2-4d30-e29f-851bca6c5a46"
      },
      "source": [
        "\"\"\"\n",
        "model_json2 = model2.to_json()\n",
        "with open(\"/content/drive/MyDrive/Projet3A/model2.json\", \"w\") as json_file:\n",
        "    json_file.write(model_json2)\n",
        "# serialize weights to HDF5\n",
        "model2.save_weights(\"model2.h5\")\n",
        "print(\"Saved model2 to disk\")\n",
        "\"\"\""
      ],
      "execution_count": null,
      "outputs": [
        {
          "output_type": "execute_result",
          "data": {
            "application/vnd.google.colaboratory.intrinsic+json": {
              "type": "string"
            },
            "text/plain": [
              "'\\nmodel_json2 = model2.to_json()\\nwith open(\"/content/drive/MyDrive/Projet3A/model2.json\", \"w\") as json_file:\\n    json_file.write(model_json2)\\n# serialize weights to HDF5\\nmodel2.save_weights(\"model2.h5\")\\nprint(\"Saved model2 to disk\")\\n'"
            ]
          },
          "metadata": {
            "tags": []
          },
          "execution_count": 11
        }
      ]
    },
    {
      "cell_type": "code",
      "metadata": {
        "id": "P2raftLplCay",
        "colab": {
          "base_uri": "https://localhost:8080/",
          "height": 53
        },
        "outputId": "70b563eb-c7b5-4ef1-9d65-b78d902e659b"
      },
      "source": [
        "\"\"\"\n",
        "from keras.models import model_from_json\n",
        "json_file = open('/content/drive/MyDrive/Projet3A/model2.json', 'r')\n",
        "loaded_model_json = json_file.read()\n",
        "json_file.close()\n",
        "model = model_from_json(loaded_model_json)\n",
        "\"\"\""
      ],
      "execution_count": null,
      "outputs": [
        {
          "output_type": "execute_result",
          "data": {
            "application/vnd.google.colaboratory.intrinsic+json": {
              "type": "string"
            },
            "text/plain": [
              "\"\\nfrom keras.models import model_from_json\\njson_file = open('/content/drive/MyDrive/Projet3A/model2.json', 'r')\\nloaded_model_json = json_file.read()\\njson_file.close()\\nmodel = model_from_json(loaded_model_json)\\n\""
            ]
          },
          "metadata": {
            "tags": []
          },
          "execution_count": 12
        }
      ]
    },
    {
      "cell_type": "code",
      "metadata": {
        "id": "Zi_3cE9aKVC7"
      },
      "source": [
        "#model2.save('/content/drive/My Drive/Projet 3A')"
      ],
      "execution_count": null,
      "outputs": []
    },
    {
      "cell_type": "code",
      "metadata": {
        "id": "WZB30QC709Kd"
      },
      "source": [
        "L=15000"
      ],
      "execution_count": null,
      "outputs": []
    },
    {
      "cell_type": "code",
      "metadata": {
        "id": "S6szq5KiKkjX"
      },
      "source": [
        "scores=[]\n",
        "x_train_10000=x_train[:L]"
      ],
      "execution_count": null,
      "outputs": []
    },
    {
      "cell_type": "code",
      "metadata": {
        "id": "C9OIV9gcLTOJ"
      },
      "source": [
        "y_test_KNN=[k.item() for k in y_test]\n",
        "y_train_KNN=[k.item() for k in y_train]"
      ],
      "execution_count": null,
      "outputs": []
    },
    {
      "cell_type": "code",
      "metadata": {
        "id": "gXEs_sbU0yqK"
      },
      "source": [
        "m=5"
      ],
      "execution_count": null,
      "outputs": []
    },
    {
      "cell_type": "markdown",
      "metadata": {
        "id": "NMmeH_VzLLkO"
      },
      "source": [
        "# Couche conv2d 50"
      ]
    },
    {
      "cell_type": "code",
      "metadata": {
        "colab": {
          "base_uri": "https://localhost:8080/"
        },
        "id": "QQvZJAqwLK41",
        "outputId": "2b46378f-ee80-4a96-9fce-1403778304b7"
      },
      "source": [
        "model.layers[6]"
      ],
      "execution_count": null,
      "outputs": [
        {
          "output_type": "execute_result",
          "data": {
            "text/plain": [
              "<tensorflow.python.keras.layers.convolutional.Conv2D at 0x7f21999ef510>"
            ]
          },
          "metadata": {
            "tags": []
          },
          "execution_count": 18
        }
      ]
    },
    {
      "cell_type": "code",
      "metadata": {
        "id": "iYZd2_tqK8oc"
      },
      "source": [
        "get_conv50_output = function([model.layers[0].input],\n",
        "                                  [model.layers[6].output])\n",
        "layer_output_conv50 = get_conv50_output([x_train_10000])"
      ],
      "execution_count": null,
      "outputs": []
    },
    {
      "cell_type": "code",
      "metadata": {
        "colab": {
          "base_uri": "https://localhost:8080/"
        },
        "id": "O5F-WZauQSmg",
        "outputId": "81fa8395-0917-4e95-f39a-0474ada10123"
      },
      "source": [
        "np.array(layer_output_conv50[0]).shape"
      ],
      "execution_count": null,
      "outputs": [
        {
          "output_type": "execute_result",
          "data": {
            "text/plain": [
              "(15000, 1, 1, 128)"
            ]
          },
          "metadata": {
            "tags": []
          },
          "execution_count": 20
        }
      ]
    },
    {
      "cell_type": "code",
      "metadata": {
        "id": "LnYf47mEK1sd"
      },
      "source": [
        "conv50=np.array(layer_output_conv50[0]).reshape(L,128)"
      ],
      "execution_count": null,
      "outputs": []
    },
    {
      "cell_type": "code",
      "metadata": {
        "colab": {
          "base_uri": "https://localhost:8080/"
        },
        "id": "zG_47tjlN9s2",
        "outputId": "79daefcd-3f9d-4d34-af32-218fad0e4dc8"
      },
      "source": [
        "conv50.shape"
      ],
      "execution_count": null,
      "outputs": [
        {
          "output_type": "execute_result",
          "data": {
            "text/plain": [
              "(15000, 128)"
            ]
          },
          "metadata": {
            "tags": []
          },
          "execution_count": 22
        }
      ]
    },
    {
      "cell_type": "code",
      "metadata": {
        "colab": {
          "base_uri": "https://localhost:8080/"
        },
        "id": "7iBTu8ndOPR5",
        "outputId": "bbfdf076-025e-4bcd-c033-6095fd0faba9"
      },
      "source": [
        "from sklearn.neighbors import KNeighborsClassifier\n",
        "knn_conv50=KNeighborsClassifier(m)\n",
        "knn_conv50.fit(conv50,y_train_KNN[:L])"
      ],
      "execution_count": null,
      "outputs": [
        {
          "output_type": "execute_result",
          "data": {
            "text/plain": [
              "KNeighborsClassifier(algorithm='auto', leaf_size=30, metric='minkowski',\n",
              "                     metric_params=None, n_jobs=None, n_neighbors=5, p=2,\n",
              "                     weights='uniform')"
            ]
          },
          "metadata": {
            "tags": []
          },
          "execution_count": 23
        }
      ]
    },
    {
      "cell_type": "code",
      "metadata": {
        "id": "USsFrMvkQseB"
      },
      "source": [
        "layer_output_conv50_test = get_conv50_output([x_test[:5000]])"
      ],
      "execution_count": null,
      "outputs": []
    },
    {
      "cell_type": "code",
      "metadata": {
        "id": "Gx2FNCO0RbUR"
      },
      "source": [
        "conv50_test=np.array(layer_output_conv50_test[0]).reshape(5000,128)"
      ],
      "execution_count": null,
      "outputs": []
    },
    {
      "cell_type": "code",
      "metadata": {
        "id": "ZblFQsbkQ6NL"
      },
      "source": [
        "score=knn_conv50.score(conv50_test,y_test_KNN[:5000])"
      ],
      "execution_count": null,
      "outputs": []
    },
    {
      "cell_type": "code",
      "metadata": {
        "id": "QZ4pNfuBRpOl"
      },
      "source": [
        "scores.append(score)"
      ],
      "execution_count": null,
      "outputs": []
    },
    {
      "cell_type": "code",
      "metadata": {
        "colab": {
          "base_uri": "https://localhost:8080/"
        },
        "id": "xdd8DcZWRxUT",
        "outputId": "834587c4-ff50-4b48-ccc0-2d3ac4c369c3"
      },
      "source": [
        "scores"
      ],
      "execution_count": null,
      "outputs": [
        {
          "output_type": "execute_result",
          "data": {
            "text/plain": [
              "[0.9152]"
            ]
          },
          "metadata": {
            "tags": []
          },
          "execution_count": 28
        }
      ]
    },
    {
      "cell_type": "markdown",
      "metadata": {
        "id": "4E4TK0R1R74T"
      },
      "source": [
        "# Conv2D 40"
      ]
    },
    {
      "cell_type": "code",
      "metadata": {
        "colab": {
          "base_uri": "https://localhost:8080/"
        },
        "id": "uenpFWXvR7nF",
        "outputId": "0133f198-b4dc-4475-ceb1-8c93a5604838"
      },
      "source": [
        "model.layers[5]"
      ],
      "execution_count": null,
      "outputs": [
        {
          "output_type": "execute_result",
          "data": {
            "text/plain": [
              "<tensorflow.python.keras.layers.convolutional.Conv2D at 0x7f21999e9910>"
            ]
          },
          "metadata": {
            "tags": []
          },
          "execution_count": 29
        }
      ]
    },
    {
      "cell_type": "code",
      "metadata": {
        "id": "99sE4b3bSdcj"
      },
      "source": [
        "get_conv40_output = function([model.layers[0].input],\n",
        "                                  [model.layers[5].output])\n",
        "layer_output_conv40 = get_conv40_output([x_train_10000])"
      ],
      "execution_count": null,
      "outputs": []
    },
    {
      "cell_type": "code",
      "metadata": {
        "colab": {
          "base_uri": "https://localhost:8080/"
        },
        "id": "SfqF6bQ6Splh",
        "outputId": "b7b298dd-78d0-4dc0-e0ba-685709e22450"
      },
      "source": [
        "np.array(layer_output_conv40[0]).shape"
      ],
      "execution_count": null,
      "outputs": [
        {
          "output_type": "execute_result",
          "data": {
            "text/plain": [
              "(15000, 3, 3, 128)"
            ]
          },
          "metadata": {
            "tags": []
          },
          "execution_count": 31
        }
      ]
    },
    {
      "cell_type": "code",
      "metadata": {
        "id": "WQrDyur-S4ra"
      },
      "source": [
        "conv40=np.array(layer_output_conv40[0]).reshape(L,1152)"
      ],
      "execution_count": null,
      "outputs": []
    },
    {
      "cell_type": "code",
      "metadata": {
        "colab": {
          "base_uri": "https://localhost:8080/"
        },
        "id": "kuU2Nv65TDNV",
        "outputId": "bd1703bb-8512-40c2-d399-51bc746bf359"
      },
      "source": [
        "knn_conv40=KNeighborsClassifier(m)\n",
        "knn_conv40.fit(conv40,y_train_KNN[:L])"
      ],
      "execution_count": null,
      "outputs": [
        {
          "output_type": "execute_result",
          "data": {
            "text/plain": [
              "KNeighborsClassifier(algorithm='auto', leaf_size=30, metric='minkowski',\n",
              "                     metric_params=None, n_jobs=None, n_neighbors=5, p=2,\n",
              "                     weights='uniform')"
            ]
          },
          "metadata": {
            "tags": []
          },
          "execution_count": 33
        }
      ]
    },
    {
      "cell_type": "code",
      "metadata": {
        "id": "w51PnuuiTM1K"
      },
      "source": [
        "layer_output_conv40_test = get_conv40_output([x_test[:5000]])"
      ],
      "execution_count": null,
      "outputs": []
    },
    {
      "cell_type": "code",
      "metadata": {
        "id": "y0kXUBFdTeot"
      },
      "source": [
        "conv40_test=np.array(layer_output_conv40_test[0]).reshape(5000,1152)"
      ],
      "execution_count": null,
      "outputs": []
    },
    {
      "cell_type": "code",
      "metadata": {
        "id": "fW_-vu4ATnPe"
      },
      "source": [
        "score=knn_conv40.score(conv40_test,y_test_KNN[:5000])"
      ],
      "execution_count": null,
      "outputs": []
    },
    {
      "cell_type": "code",
      "metadata": {
        "id": "ex4PVO8YTwgT"
      },
      "source": [
        "scores.append(score)"
      ],
      "execution_count": null,
      "outputs": []
    },
    {
      "cell_type": "code",
      "metadata": {
        "colab": {
          "base_uri": "https://localhost:8080/"
        },
        "id": "IMAHzXqcT3Cm",
        "outputId": "68a19d7d-09c1-441b-80a4-55c26e8bbb80"
      },
      "source": [
        "scores"
      ],
      "execution_count": null,
      "outputs": [
        {
          "output_type": "execute_result",
          "data": {
            "text/plain": [
              "[0.9152, 0.8946]"
            ]
          },
          "metadata": {
            "tags": []
          },
          "execution_count": 38
        }
      ]
    },
    {
      "cell_type": "markdown",
      "metadata": {
        "id": "NsyHL8RBUVHJ"
      },
      "source": [
        "# Conv2D 30"
      ]
    },
    {
      "cell_type": "code",
      "metadata": {
        "colab": {
          "base_uri": "https://localhost:8080/"
        },
        "id": "REEzeWZ7UclE",
        "outputId": "9b26a8ae-cb29-4a95-c96d-519c33dab3fe"
      },
      "source": [
        "model.layers[4]"
      ],
      "execution_count": null,
      "outputs": [
        {
          "output_type": "execute_result",
          "data": {
            "text/plain": [
              "<tensorflow.python.keras.layers.convolutional.Conv2D at 0x7f21999d6f50>"
            ]
          },
          "metadata": {
            "tags": []
          },
          "execution_count": 39
        }
      ]
    },
    {
      "cell_type": "code",
      "metadata": {
        "id": "QPWfLmnfUjUJ"
      },
      "source": [
        "get_conv30_output = function([model.layers[0].input],\n",
        "                                  [model.layers[4].output])\n",
        "layer_output_conv30 = get_conv30_output([x_train_10000])"
      ],
      "execution_count": null,
      "outputs": []
    },
    {
      "cell_type": "code",
      "metadata": {
        "colab": {
          "base_uri": "https://localhost:8080/"
        },
        "id": "GjVx3LZvUton",
        "outputId": "fe239139-fe93-4b4b-f782-5b7e42901cf8"
      },
      "source": [
        "np.array(layer_output_conv30[0]).shape"
      ],
      "execution_count": null,
      "outputs": [
        {
          "output_type": "execute_result",
          "data": {
            "text/plain": [
              "(15000, 5, 5, 128)"
            ]
          },
          "metadata": {
            "tags": []
          },
          "execution_count": 41
        }
      ]
    },
    {
      "cell_type": "code",
      "metadata": {
        "id": "8hV7H8hEU2oA"
      },
      "source": [
        "conv30=np.array(layer_output_conv30[0]).reshape(L,3200)"
      ],
      "execution_count": null,
      "outputs": []
    },
    {
      "cell_type": "code",
      "metadata": {
        "colab": {
          "base_uri": "https://localhost:8080/"
        },
        "id": "X7tCq2QdVEdM",
        "outputId": "df7d5a59-a9a5-4fab-b024-92a33f63b120"
      },
      "source": [
        "knn_conv30=KNeighborsClassifier(m)\n",
        "knn_conv30.fit(conv30,y_train_KNN[:L])"
      ],
      "execution_count": null,
      "outputs": [
        {
          "output_type": "execute_result",
          "data": {
            "text/plain": [
              "KNeighborsClassifier(algorithm='auto', leaf_size=30, metric='minkowski',\n",
              "                     metric_params=None, n_jobs=None, n_neighbors=5, p=2,\n",
              "                     weights='uniform')"
            ]
          },
          "metadata": {
            "tags": []
          },
          "execution_count": 43
        }
      ]
    },
    {
      "cell_type": "code",
      "metadata": {
        "id": "_lVEHbv7VNGm"
      },
      "source": [
        "layer_output_conv30_test = get_conv30_output([x_test[:5000]])"
      ],
      "execution_count": null,
      "outputs": []
    },
    {
      "cell_type": "code",
      "metadata": {
        "id": "Jsm1Von4VVej"
      },
      "source": [
        "conv30_test=np.array(layer_output_conv30_test[0]).reshape(5000,3200)"
      ],
      "execution_count": null,
      "outputs": []
    },
    {
      "cell_type": "code",
      "metadata": {
        "id": "c81Y1G0yVcVN"
      },
      "source": [
        "score=knn_conv30.score(conv30_test,y_test_KNN[:5000])"
      ],
      "execution_count": null,
      "outputs": []
    },
    {
      "cell_type": "code",
      "metadata": {
        "colab": {
          "base_uri": "https://localhost:8080/"
        },
        "id": "qKkXzAyoVhmv",
        "outputId": "1ab8ba79-e1d9-4ff6-946d-b58b67aba513"
      },
      "source": [
        "scores.append(score)\n",
        "scores"
      ],
      "execution_count": null,
      "outputs": [
        {
          "output_type": "execute_result",
          "data": {
            "text/plain": [
              "[0.9152, 0.8946, 0.825]"
            ]
          },
          "metadata": {
            "tags": []
          },
          "execution_count": 47
        }
      ]
    },
    {
      "cell_type": "markdown",
      "metadata": {
        "id": "FpeTT7PfzjkP"
      },
      "source": [
        ""
      ]
    },
    {
      "cell_type": "markdown",
      "metadata": {
        "id": "H7uWSBz2XGjv"
      },
      "source": [
        "#Maxpooling S2"
      ]
    },
    {
      "cell_type": "code",
      "metadata": {
        "colab": {
          "base_uri": "https://localhost:8080/"
        },
        "id": "Cvm91-dVXLeS",
        "outputId": "2c77f6b1-adc1-49bc-9286-325c0a278d92"
      },
      "source": [
        "model.layers[3]"
      ],
      "execution_count": null,
      "outputs": [
        {
          "output_type": "execute_result",
          "data": {
            "text/plain": [
              "<tensorflow.python.keras.layers.pooling.MaxPooling2D at 0x7f21999dcbd0>"
            ]
          },
          "metadata": {
            "tags": []
          },
          "execution_count": 48
        }
      ]
    },
    {
      "cell_type": "code",
      "metadata": {
        "id": "08VjkoltXF-R"
      },
      "source": [
        "get_S2_output = function([model.layers[0].input],\n",
        "                                  [model.layers[3].output])\n",
        "layer_output_S2 = get_S2_output([x_train_10000])"
      ],
      "execution_count": null,
      "outputs": []
    },
    {
      "cell_type": "code",
      "metadata": {
        "colab": {
          "base_uri": "https://localhost:8080/"
        },
        "id": "gmVo3yRaXhIp",
        "outputId": "32296412-ba44-42f2-f75a-a1f74e1f5e95"
      },
      "source": [
        "np.array(layer_output_S2[0]).shape"
      ],
      "execution_count": null,
      "outputs": [
        {
          "output_type": "execute_result",
          "data": {
            "text/plain": [
              "(15000, 7, 7, 128)"
            ]
          },
          "metadata": {
            "tags": []
          },
          "execution_count": 50
        }
      ]
    },
    {
      "cell_type": "code",
      "metadata": {
        "id": "Jy94F-_6Xoov"
      },
      "source": [
        "S2=np.array(layer_output_S2[0]).reshape(L,6272)"
      ],
      "execution_count": null,
      "outputs": []
    },
    {
      "cell_type": "code",
      "metadata": {
        "colab": {
          "base_uri": "https://localhost:8080/"
        },
        "id": "jfI5RnGUXx9N",
        "outputId": "4fbcf939-9576-4f4c-82d0-e78f8421942b"
      },
      "source": [
        "knn_S2=KNeighborsClassifier(m)\n",
        "knn_S2.fit(S2,y_train_KNN[:L])"
      ],
      "execution_count": null,
      "outputs": [
        {
          "output_type": "execute_result",
          "data": {
            "text/plain": [
              "KNeighborsClassifier(algorithm='auto', leaf_size=30, metric='minkowski',\n",
              "                     metric_params=None, n_jobs=None, n_neighbors=5, p=2,\n",
              "                     weights='uniform')"
            ]
          },
          "metadata": {
            "tags": []
          },
          "execution_count": 52
        }
      ]
    },
    {
      "cell_type": "code",
      "metadata": {
        "id": "jQbZGGYFX8Jr"
      },
      "source": [
        "layer_output_S2_test = get_S2_output([x_test[:5000]])"
      ],
      "execution_count": null,
      "outputs": []
    },
    {
      "cell_type": "code",
      "metadata": {
        "id": "UNwVDC8yYEeG"
      },
      "source": [
        "S2_test=np.array(layer_output_S2_test[0]).reshape(5000,6272)"
      ],
      "execution_count": null,
      "outputs": []
    },
    {
      "cell_type": "code",
      "metadata": {
        "id": "61BxuTekYLYQ"
      },
      "source": [
        "score=knn_S2.score(S2_test,y_test_KNN[:5000])"
      ],
      "execution_count": null,
      "outputs": []
    },
    {
      "cell_type": "code",
      "metadata": {
        "colab": {
          "base_uri": "https://localhost:8080/"
        },
        "id": "171Dq1_RYOcF",
        "outputId": "4557874d-c55e-4246-e6fa-65ff3cdca00c"
      },
      "source": [
        "scores.append(score)\n",
        "scores"
      ],
      "execution_count": null,
      "outputs": [
        {
          "output_type": "execute_result",
          "data": {
            "text/plain": [
              "[0.9152, 0.8946, 0.825, 0.6792]"
            ]
          },
          "metadata": {
            "tags": []
          },
          "execution_count": 56
        }
      ]
    },
    {
      "cell_type": "code",
      "metadata": {
        "id": "Ang4EdaazQlK"
      },
      "source": [
        ""
      ],
      "execution_count": null,
      "outputs": []
    },
    {
      "cell_type": "code",
      "metadata": {
        "id": "0dz5Wp37zldC"
      },
      "source": [
        ""
      ],
      "execution_count": null,
      "outputs": []
    },
    {
      "cell_type": "markdown",
      "metadata": {
        "id": "u1GDJbcYdFS5"
      },
      "source": [
        "# Conv2D 20"
      ]
    },
    {
      "cell_type": "code",
      "metadata": {
        "colab": {
          "base_uri": "https://localhost:8080/"
        },
        "id": "gwmkzD9bdEHr",
        "outputId": "d937df37-a7d0-47b6-8662-3e74b6bca1f6"
      },
      "source": [
        "model.layers[2]"
      ],
      "execution_count": null,
      "outputs": [
        {
          "output_type": "execute_result",
          "data": {
            "text/plain": [
              "<tensorflow.python.keras.layers.convolutional.Conv2D at 0x7f2199a1d610>"
            ]
          },
          "metadata": {
            "tags": []
          },
          "execution_count": 57
        }
      ]
    },
    {
      "cell_type": "code",
      "metadata": {
        "id": "_nriqws9dO6s"
      },
      "source": [
        "get_conv20_output = function([model.layers[0].input],\n",
        "                                  [model.layers[2].output])\n",
        "layer_output_conv20 = get_conv20_output([x_train_10000])"
      ],
      "execution_count": null,
      "outputs": []
    },
    {
      "cell_type": "code",
      "metadata": {
        "id": "KfMEjs2bf-U9"
      },
      "source": [
        "np.array(layer_output_conv20[0]).shape"
      ],
      "execution_count": null,
      "outputs": []
    },
    {
      "cell_type": "code",
      "metadata": {
        "id": "5m0aGO73gIuU"
      },
      "source": [
        "conv20=np.array(layer_output_conv20[0]).reshape(L,25088)"
      ],
      "execution_count": null,
      "outputs": []
    },
    {
      "cell_type": "code",
      "metadata": {
        "id": "hCF45sQJgXNG"
      },
      "source": [
        "knn_conv20=KNeighborsClassifier(m)\n",
        "knn_conv20.fit(conv20,y_train_KNN[:L])"
      ],
      "execution_count": null,
      "outputs": []
    },
    {
      "cell_type": "code",
      "metadata": {
        "id": "7DcSKuxsi1pa"
      },
      "source": [
        "layer_output_conv20_test = get_conv20_output([x_test[:5000]])"
      ],
      "execution_count": null,
      "outputs": []
    },
    {
      "cell_type": "code",
      "metadata": {
        "id": "qh6yM2GAjEvM"
      },
      "source": [
        "conv20_test=np.array(layer_output_conv20_test[0]).reshape(5000,25088)"
      ],
      "execution_count": null,
      "outputs": []
    },
    {
      "cell_type": "code",
      "metadata": {
        "id": "THWhdU26jhLu"
      },
      "source": [
        "score=knn_conv20.score(conv20_test,y_test_KNN[:5000])"
      ],
      "execution_count": null,
      "outputs": []
    },
    {
      "cell_type": "code",
      "metadata": {
        "id": "qcYzsOtpk4zY"
      },
      "source": [
        "scores.append(score)\n",
        "scores"
      ],
      "execution_count": null,
      "outputs": []
    },
    {
      "cell_type": "markdown",
      "metadata": {
        "id": "ndaQ1yzcy4Qw"
      },
      "source": [
        "# Maxpooling S1"
      ]
    },
    {
      "cell_type": "code",
      "metadata": {
        "id": "A7NynbxNy4BK"
      },
      "source": [
        "model.layers[1]"
      ],
      "execution_count": null,
      "outputs": []
    },
    {
      "cell_type": "code",
      "metadata": {
        "id": "fG2b1g8IzF13"
      },
      "source": [
        "get_S1_output = function([model.layers[0].input],\n",
        "                                  [model.layers[1].output])\n",
        "layer_output_S1 = get_S2_output([x_train_10000])"
      ],
      "execution_count": null,
      "outputs": []
    },
    {
      "cell_type": "markdown",
      "metadata": {
        "id": "RXu1eX0OzUY2"
      },
      "source": [
        "les scores [0.9142, 0.9142, 0.881, 0.8164, 0.6956, 0.653]"
      ]
    }
  ]
}